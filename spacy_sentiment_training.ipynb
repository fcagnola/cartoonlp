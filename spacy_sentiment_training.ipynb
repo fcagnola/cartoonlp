{
 "cells": [
  {
   "cell_type": "code",
   "execution_count": null,
   "metadata": {},
   "outputs": [],
   "source": [
    "from spacy.tokens import DocBin\n",
    "from ml_datasets import imdb\n",
    "import spacy"
   ]
  },
  {
   "cell_type": "markdown",
   "metadata": {},
   "source": [
    "Importing DocBin to store the data in a processable format. Chosen dataset is imdb reviews from the ml_datasets module."
   ]
  },
  {
   "cell_type": "code",
   "execution_count": 2,
   "metadata": {},
   "outputs": [],
   "source": [
    "train_data, valid_data = imdb()"
   ]
  },
  {
   "cell_type": "markdown",
   "metadata": {},
   "source": [
    "Training data and valid data are returned from dataset function"
   ]
  },
  {
   "cell_type": "code",
   "execution_count": 3,
   "metadata": {},
   "outputs": [
    {
     "name": "stdout",
     "output_type": "stream",
     "text": [
      "('Frankie Dio (Lee VanCleef) is a high-ranking mobster who turns himself in to the police or illegal gambling (for reasons that seem unclear to me). Tony (Tony Lo Bianco) is a low-level thug who frequents a pool hall and spends his free time envying Frankie. By being in the right place at the right time, Tony gets arrested with Frankie and is sent to jail... where they form a bond that may not quite be friendship, but it will do for now.\\n\\n\\n\\nThis film came to me under the title of \"Frank and Tony\", which is disappointing because I see an alternate name is \"Mean Frank and Crazy Tony\", which would have helped sell the film more effectively. I presume that\\'s an homage to \"Dirty Mary, Crazy Larry\" but what do I know? I watched it shortly after another Italian crime film, \"Violent Professionals\", and I must say the two complement each other very well.\\n\\n\\n\\nItalians have always lagged behind Americans in their budgets and production values, which is a real shame with this film. It is considered a \"grindhouse\" film, which unfairly demotes it to a b-movie (or worse). With a cleaner sound and picture, this could have been a Hollywood hit, I suspect. I found the story very interesting, the characters (and actors) better than average and unlike \"Violent Professionals\" the plot is fairly clear -- not too many secondary characters.\\n\\n\\n\\nIf you like Mafia movies or crime films you should give this one a try. A film about the mob that\\'s actually from Italy (how much more authentic do you want?) is as much as you can ask. Sure, it\\'s not \"The Godfather\", but it\\'s not supposed to be. This isn\\'t a drama, it\\'s a light comedy, heavy action buddy film... like \"Die Hard With a Vengeance\" from the point of view of the bad guys. Well, okay, not really.\\n\\n\\n\\nIf nothing else, this film made me want to check out other films from the director and the principle cast. Films besides \"Escape From New York\" (where VanCleef plays \"Hauk\") and the usual cult movies. What\\'s more fun than discovering a lost classic?', 'pos')\n"
     ]
    }
   ],
   "source": [
    "print(train_data[0])"
   ]
  },
  {
   "cell_type": "code",
   "execution_count": 4,
   "metadata": {},
   "outputs": [],
   "source": [
    "nlp = spacy.load(\"en_core_web_sm\")\n"
   ]
  },
  {
   "cell_type": "code",
   "execution_count": 7,
   "metadata": {},
   "outputs": [],
   "source": [
    "def make_docs(data):\n",
    "    docs = []\n",
    "    for doc, label in nlp.pipe(data, as_tuples=True):\n",
    "        if label == \"neg\":\n",
    "            doc.cats[\"positive\"] = 0\n",
    "            doc.cats[\"negative\"] = 1\n",
    "        else:\n",
    "            doc.cats[\"positive\"] = 1\n",
    "            doc.cats[\"negative\"] = 0\n",
    "        docs.append(doc)\n",
    "    return docs"
   ]
  },
  {
   "cell_type": "code",
   "execution_count": 11,
   "metadata": {},
   "outputs": [],
   "source": [
    "num_texts = 500\n",
    "\n",
    "train_docs = make_docs(train_data[:num_texts])\n",
    "doc_bin = DocBin(docs=train_docs)\n",
    "doc_bin.to_disk(\"./data/train.spacy\")\n",
    "\n",
    "valid_docs = make_docs(valid_data[:num_texts])\n",
    "doc_bin = DocBin(docs=valid_docs)\n",
    "doc_bin.to_disk(\"./data/valid.spacy\")"
   ]
  },
  {
   "cell_type": "markdown",
   "metadata": {},
   "source": []
  }
 ],
 "metadata": {
  "interpreter": {
   "hash": "aee8b7b246df8f9039afb4144a1f6fd8d2ca17a180786b69acc140d282b71a49"
  },
  "kernelspec": {
   "display_name": "Python 3.9.7 64-bit",
   "name": "python3"
  },
  "language_info": {
   "codemirror_mode": {
    "name": "ipython",
    "version": 3
   },
   "file_extension": ".py",
   "mimetype": "text/x-python",
   "name": "python",
   "nbconvert_exporter": "python",
   "pygments_lexer": "ipython3",
   "version": "3.9.7"
  },
  "orig_nbformat": 4
 },
 "nbformat": 4,
 "nbformat_minor": 2
}
